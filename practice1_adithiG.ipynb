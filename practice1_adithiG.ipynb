{
  "nbformat": 4,
  "nbformat_minor": 0,
  "metadata": {
    "colab": {
      "name": "practice1_adithiG.ipynb",
      "provenance": [],
      "collapsed_sections": [],
      "authorship_tag": "ABX9TyMTjNyQ5VxhdsFcUEs90e5l",
      "include_colab_link": true
    },
    "kernelspec": {
      "name": "python3",
      "display_name": "Python 3"
    },
    "language_info": {
      "name": "python"
    }
  },
  "cells": [
    {
      "cell_type": "markdown",
      "metadata": {
        "id": "view-in-github",
        "colab_type": "text"
      },
      "source": [
        "<a href=\"https://colab.research.google.com/github/AdithiGirimaji/python_course/blob/main/practice1_adithiG.ipynb\" target=\"_parent\"><img src=\"https://colab.research.google.com/assets/colab-badge.svg\" alt=\"Open In Colab\"/></a>"
      ]
    },
    {
      "cell_type": "markdown",
      "metadata": {
        "id": "dZSjFfILY3Bj"
      },
      "source": [
        "1. Take a variable a, and a variable b. Assign some values to them, find their sum, product, difference, quotient, remainder and find a to the power of b(a^b)"
      ]
    },
    {
      "cell_type": "code",
      "metadata": {
        "colab": {
          "base_uri": "https://localhost:8080/"
        },
        "id": "RnNFGvlVY_T0",
        "outputId": "6e1c2f2e-1804-44d9-90a2-f7c9559d097b"
      },
      "source": [
        "a=2\n",
        "b=5\n",
        "print(a+b)\n",
        "print(a*b)\n",
        "print(a-b)\n",
        "print(a/b)\n",
        "print(a%b)\n",
        "print(a**(b*(a**b)))"
      ],
      "execution_count": null,
      "outputs": [
        {
          "output_type": "stream",
          "text": [
            "7\n",
            "10\n",
            "-3\n",
            "0.4\n",
            "2\n",
            "1461501637330902918203684832716283019655932542976\n"
          ],
          "name": "stdout"
        }
      ]
    },
    {
      "cell_type": "markdown",
      "metadata": {
        "id": "5DJfqJD5bW_-"
      },
      "source": [
        "2. After execution, now take external input from user using the input() keyword. Take input for String, and a number. Do the following:\n",
        "Concat the two data types into a variable c."
      ]
    },
    {
      "cell_type": "code",
      "metadata": {
        "colab": {
          "base_uri": "https://localhost:8080/"
        },
        "id": "79pMzFK3bZBC",
        "outputId": "a2c6a3ed-b2b7-4247-a9c6-21a5a00c778e"
      },
      "source": [
        "a = input(\"Enter the string:\")\n",
        "b = input(\"Enter the number:\")\n",
        "c = a + \" \" + b\n",
        "print(c)"
      ],
      "execution_count": null,
      "outputs": [
        {
          "output_type": "stream",
          "text": [
            "Enter the string:aa\n",
            "Enter the number:12\n",
            "aa 12\n"
          ],
          "name": "stdout"
        }
      ]
    },
    {
      "cell_type": "markdown",
      "metadata": {
        "id": "yo3UjHrWcwCC"
      },
      "source": [
        "Perform multiplication of the 2 data types, store it in d. Find data type of variable d and print it."
      ]
    },
    {
      "cell_type": "code",
      "metadata": {
        "colab": {
          "base_uri": "https://localhost:8080/"
        },
        "id": "gN6sFBxzcxCc",
        "outputId": "17443fe4-98a6-4bfa-d56c-c609cfd9f4be"
      },
      "source": [
        "a = int(input(\"Enter the number:\"))\n",
        "b = float(input(\"Enter the number:\"))\n",
        "d=a*b\n",
        "print(d)\n",
        "print(type(d))"
      ],
      "execution_count": null,
      "outputs": [
        {
          "output_type": "stream",
          "text": [
            "Enter the number:10\n",
            "Enter the number:2.1\n",
            "21.0\n",
            "<class 'float'>\n"
          ],
          "name": "stdout"
        }
      ]
    },
    {
      "cell_type": "markdown",
      "metadata": {
        "id": "80EXL7_sgHKc"
      },
      "source": [
        "Take input of 2 strings. Perform concatination of those strings using the + operator and the , operator."
      ]
    },
    {
      "cell_type": "code",
      "metadata": {
        "colab": {
          "base_uri": "https://localhost:8080/"
        },
        "id": "rUeQ7XBLgI-1",
        "outputId": "f5e8540d-640c-426d-f08a-18931bbe911e"
      },
      "source": [
        "a = input(\"Enter the 1st string:\")\n",
        "b = input(\"Enter the 2nd string:\")\n",
        "print(a + \" \" + b)\n",
        "print(a,b)"
      ],
      "execution_count": null,
      "outputs": [
        {
          "output_type": "stream",
          "text": [
            "Enter the 1st string:aaa\n",
            "Enter the 2nd string:bbb\n",
            "aaa bbb\n",
            "aaa bbb\n"
          ],
          "name": "stdout"
        }
      ]
    },
    {
      "cell_type": "markdown",
      "metadata": {
        "id": "7fCwae6Jh2cS"
      },
      "source": [
        "Take input of number and string. Concat the 2 variables and print the output."
      ]
    },
    {
      "cell_type": "code",
      "metadata": {
        "colab": {
          "base_uri": "https://localhost:8080/"
        },
        "id": "Sot2fHrIh4YG",
        "outputId": "79bda93b-aa36-40cf-8c9b-57e7c174cf85"
      },
      "source": [
        "a =input(\"Enter the string:\")\n",
        "b =input(\"Enter the integer:\")\n",
        "d =a + \" \" + b\n",
        "print(d)"
      ],
      "execution_count": null,
      "outputs": [
        {
          "output_type": "stream",
          "text": [
            "Enter the string:aa\n",
            "Enter the integer:2\n",
            "aa 2\n"
          ],
          "name": "stdout"
        }
      ]
    },
    {
      "cell_type": "markdown",
      "metadata": {
        "id": "O_IuPJYtilKL"
      },
      "source": [
        "For the code below, give an input such that you will get an error all the time"
      ]
    },
    {
      "cell_type": "code",
      "metadata": {
        "colab": {
          "base_uri": "https://localhost:8080/",
          "height": 262
        },
        "id": "b4dn64yXimCn",
        "outputId": "dd5cd288-fa31-46a0-c0e1-9a6f84d237b6"
      },
      "source": [
        "x=input(\"Enter number for x: \")\n",
        "y=float(input(\"Enter number for y: \"))\n",
        "if x==y: \n",
        "  print(\"x and y are equal\")\n",
        "  if y!= 0:\n",
        "    print(\"thus x/y is\",x/y)\n",
        "elif x<y: \n",
        "  print(\"x is smaller\")\n",
        "else:\n",
        "  print(\"y is smaller\")\n",
        "print(\"thanks\")"
      ],
      "execution_count": null,
      "outputs": [
        {
          "output_type": "stream",
          "text": [
            "Enter number for x: 1\n",
            "Enter number for y: 1\n"
          ],
          "name": "stdout"
        },
        {
          "output_type": "error",
          "ename": "TypeError",
          "evalue": "ignored",
          "traceback": [
            "\u001b[0;31m---------------------------------------------------------------------------\u001b[0m",
            "\u001b[0;31mTypeError\u001b[0m                                 Traceback (most recent call last)",
            "\u001b[0;32m<ipython-input-39-e2a975f9f224>\u001b[0m in \u001b[0;36m<module>\u001b[0;34m()\u001b[0m\n\u001b[1;32m      5\u001b[0m   \u001b[0;32mif\u001b[0m \u001b[0my\u001b[0m\u001b[0;34m!=\u001b[0m \u001b[0;36m0\u001b[0m\u001b[0;34m:\u001b[0m\u001b[0;34m\u001b[0m\u001b[0;34m\u001b[0m\u001b[0m\n\u001b[1;32m      6\u001b[0m     \u001b[0mprint\u001b[0m\u001b[0;34m(\u001b[0m\u001b[0;34m\"thus x/y is\"\u001b[0m\u001b[0;34m,\u001b[0m\u001b[0mx\u001b[0m\u001b[0;34m/\u001b[0m\u001b[0my\u001b[0m\u001b[0;34m)\u001b[0m\u001b[0;34m\u001b[0m\u001b[0;34m\u001b[0m\u001b[0m\n\u001b[0;32m----> 7\u001b[0;31m \u001b[0;32melif\u001b[0m \u001b[0mx\u001b[0m\u001b[0;34m<\u001b[0m\u001b[0my\u001b[0m\u001b[0;34m:\u001b[0m\u001b[0;34m\u001b[0m\u001b[0;34m\u001b[0m\u001b[0m\n\u001b[0m\u001b[1;32m      8\u001b[0m   \u001b[0mprint\u001b[0m\u001b[0;34m(\u001b[0m\u001b[0;34m\"x is smaller\"\u001b[0m\u001b[0;34m)\u001b[0m\u001b[0;34m\u001b[0m\u001b[0;34m\u001b[0m\u001b[0m\n\u001b[1;32m      9\u001b[0m \u001b[0;32melse\u001b[0m\u001b[0;34m:\u001b[0m\u001b[0;34m\u001b[0m\u001b[0;34m\u001b[0m\u001b[0m\n",
            "\u001b[0;31mTypeError\u001b[0m: '<' not supported between instances of 'str' and 'float'"
          ]
        }
      ]
    },
    {
      "cell_type": "markdown",
      "metadata": {
        "id": "V7zmZ-8WmWKj"
      },
      "source": [
        "In the above code, now make the modification such that the input is of string data type, and instead of performing x/y modify that to finding the quotient of their ascii values. Eg: string hello has the ascii values 104 101 108 108 111. If x < y then concat the two strings. If x > y then take a number n and then print the concated string n times"
      ]
    },
    {
      "cell_type": "code",
      "metadata": {
        "colab": {
          "base_uri": "https://localhost:8080/"
        },
        "id": "59VTfZmhmY7s",
        "outputId": "621be4dc-3c56-460f-9105-39d1ba9dd282"
      },
      "source": [
        "#Enter code after the variables\n",
        "x= input(\"Enter string x:\")\n",
        "y= input('Enter string y:')\n",
        "if x==y: \n",
        "  print(\"x and y are equal\")\n",
        "  #if y!= 0:\n",
        "  for i in x:\n",
        "    for j in y:\n",
        "      d=ord(i)/ord(j)\n",
        "      print(d)\n",
        "\n",
        "elif x<y: \n",
        "  print(x+\" \"+y)\n",
        "else:\n",
        "  n=int(input(\"any number: \"))\n",
        "  print((x+\" \"+y)*n)"
      ],
      "execution_count": null,
      "outputs": [
        {
          "output_type": "stream",
          "text": [
            "Enter string x:hi\n",
            "Enter string y:hi\n",
            "x and y are equal\n",
            "1.0\n",
            "0.9904761904761905\n",
            "1.0096153846153846\n",
            "1.0\n"
          ],
          "name": "stdout"
        }
      ]
    },
    {
      "cell_type": "markdown",
      "metadata": {
        "id": "HfokREHTvH7S"
      },
      "source": [
        "Complete the code below."
      ]
    },
    {
      "cell_type": "code",
      "metadata": {
        "colab": {
          "base_uri": "https://localhost:8080/"
        },
        "id": "rD0G_2QYvIfC",
        "outputId": "6e4ae312-ed9e-44b7-8954-21b5ef4a62d6"
      },
      "source": [
        "pi = 3.14159 # approximate\n",
        "diameter = 3\n",
        "\n",
        "# Create a variable called 'radius' equal to half the diameter\n",
        "radius = diameter/2\n",
        "\n",
        "# Create a variable called 'area', using the formula for the area of a circle: pi times the radius square\n",
        "area= pi * (radius**2)\n",
        "print(area)"
      ],
      "execution_count": null,
      "outputs": [
        {
          "output_type": "stream",
          "text": [
            "7.0685775\n"
          ],
          "name": "stdout"
        }
      ]
    },
    {
      "cell_type": "markdown",
      "metadata": {
        "id": "xRB3cNsbwRTc"
      },
      "source": [
        "Add code to the following cell to swap variables a and b (so that a refers to the object previously referred to by b and vice versa)."
      ]
    },
    {
      "cell_type": "code",
      "metadata": {
        "colab": {
          "base_uri": "https://localhost:8080/"
        },
        "id": "6rLm0I6JwR5j",
        "outputId": "5bacdf2c-8f77-42a0-cebe-2d5b635d1cb4"
      },
      "source": [
        "a = 20\n",
        "b = 30\n",
        "c = a\n",
        "a = b\n",
        "b = c\n",
        "print(\"The numbers after swapping is a=\",a,\"b=\",b )"
      ],
      "execution_count": null,
      "outputs": [
        {
          "output_type": "stream",
          "text": [
            "The numbers after swapping is a= 30 b= 20\n"
          ],
          "name": "stdout"
        }
      ]
    },
    {
      "cell_type": "markdown",
      "metadata": {
        "id": "IbjxWc7WxGO0"
      },
      "source": [
        "Add parentheses to the following expression so that it evaluates to 1."
      ]
    },
    {
      "cell_type": "code",
      "metadata": {
        "colab": {
          "base_uri": "https://localhost:8080/"
        },
        "id": "aOegMfHOxGxu",
        "outputId": "8b488168-00d4-42d4-94f6-b12b45f368d1"
      },
      "source": [
        "(5 - 3 )// 2"
      ],
      "execution_count": null,
      "outputs": [
        {
          "output_type": "execute_result",
          "data": {
            "text/plain": [
              "1"
            ]
          },
          "metadata": {
            "tags": []
          },
          "execution_count": 48
        }
      ]
    },
    {
      "cell_type": "markdown",
      "metadata": {
        "id": "29pJ2gX6xTTj"
      },
      "source": [
        "Add parentheses to the following expression so that it evaluates to 0."
      ]
    },
    {
      "cell_type": "code",
      "metadata": {
        "colab": {
          "base_uri": "https://localhost:8080/"
        },
        "id": "y0GSptdCxV9n",
        "outputId": "d6efbb97-e5c1-45ff-eeb2-a8b12d83f1b0"
      },
      "source": [
        "(8 - 3) * (2 - 1 + 1)"
      ],
      "execution_count": null,
      "outputs": [
        {
          "output_type": "execute_result",
          "data": {
            "text/plain": [
              "10"
            ]
          },
          "metadata": {
            "tags": []
          },
          "execution_count": 50
        }
      ]
    },
    {
      "cell_type": "markdown",
      "metadata": {
        "id": "tFeX076lySMh"
      },
      "source": [
        "A, B and C have agreed to pool their Halloween candy and split it evenly among themselves. For the sake of their friendship, any candies left over will be smashed. For example, if they collectively bring home 91 candies, they'll take 30 each and smash 1.\n",
        "\n",
        "Write an arithmetic expression below to calculate how many candies they must smash for a given haul."
      ]
    },
    {
      "cell_type": "code",
      "metadata": {
        "colab": {
          "base_uri": "https://localhost:8080/"
        },
        "id": "dXfFn-VSySvH",
        "outputId": "c09d4a67-f44f-4d70-a72a-570826c14eed"
      },
      "source": [
        "# Variables representing the number of candies collected by alice, bob, and carol\n",
        "a_candies = 121\n",
        "b_candies = 77\n",
        "c_candies = 109\n",
        "tot_candies = a_candies + b_candies + c_candies\n",
        "to_smash = tot_candies % 3\n",
        "print(\"The candies to be smashed is :\",to_smash)"
      ],
      "execution_count": null,
      "outputs": [
        {
          "output_type": "stream",
          "text": [
            "The candies to be smashed is : 1\n"
          ],
          "name": "stdout"
        }
      ]
    },
    {
      "cell_type": "markdown",
      "metadata": {
        "id": "RJkV9lrOzII8"
      },
      "source": [
        "Make your game\n",
        "Like the simple game earlier, if the character moves to the right, the game doesn't end. Anything else, and the game ends. Code your own version of this game."
      ]
    },
    {
      "cell_type": "code",
      "metadata": {
        "colab": {
          "base_uri": "https://localhost:8080/"
        },
        "id": "SUUTHdy7zIuH",
        "outputId": "6b171afc-6569-47c9-f94b-6a93055a6715"
      },
      "source": [
        "a=0\n",
        "while True:\n",
        " n=input(\"********\\n    😃    \\n********\\n Go left or right \")\n",
        " if n==\"right\" or n==\"Right\":\n",
        "   a+=1\n",
        "   if(a>=3):\n",
        "     print(\"You have reached the end\")\n",
        "     break\n",
        "     print(\"You have found a path\")\n",
        " else:\n",
        "  a-=1\n",
        "  print(\"You are lost\")"
      ],
      "execution_count": null,
      "outputs": [
        {
          "output_type": "stream",
          "text": [
            "********\n",
            "    😃    \n",
            "********\n",
            " Go left or right right\n",
            "********\n",
            "    😃    \n",
            "********\n",
            " Go left or right right\n",
            "********\n",
            "    😃    \n",
            "********\n",
            " Go left or right left\n",
            "You are lost\n",
            "********\n",
            "    😃    \n",
            "********\n",
            " Go left or right right\n",
            "********\n",
            "    😃    \n",
            "********\n",
            " Go left or right right\n",
            "You have reached the end\n"
          ],
          "name": "stdout"
        }
      ]
    }
  ]
}